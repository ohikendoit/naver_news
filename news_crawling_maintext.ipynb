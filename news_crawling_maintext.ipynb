{
 "cells": [
  {
   "cell_type": "code",
   "execution_count": 2,
   "id": "db226808",
   "metadata": {},
   "outputs": [],
   "source": [
    "import pandas as pd\n",
    "import numpy as np\n",
    "import requests\n",
    "from bs4 import BeautifulSoup"
   ]
  },
  {
   "cell_type": "code",
   "execution_count": 3,
   "id": "64390351",
   "metadata": {},
   "outputs": [],
   "source": [
    "df_news = pd.read_csv('data/Macquarie_19900101-20220420.csv')"
   ]
  },
  {
   "cell_type": "code",
   "execution_count": 4,
   "id": "a66139ef",
   "metadata": {},
   "outputs": [
    {
     "data": {
      "text/html": [
       "<div>\n",
       "<style scoped>\n",
       "    .dataframe tbody tr th:only-of-type {\n",
       "        vertical-align: middle;\n",
       "    }\n",
       "\n",
       "    .dataframe tbody tr th {\n",
       "        vertical-align: top;\n",
       "    }\n",
       "\n",
       "    .dataframe thead th {\n",
       "        text-align: right;\n",
       "    }\n",
       "</style>\n",
       "<table border=\"1\" class=\"dataframe\">\n",
       "  <thead>\n",
       "    <tr style=\"text-align: right;\">\n",
       "      <th></th>\n",
       "      <th>뉴스 식별자</th>\n",
       "      <th>일자</th>\n",
       "      <th>언론사</th>\n",
       "      <th>기고자</th>\n",
       "      <th>제목</th>\n",
       "      <th>통합 분류1</th>\n",
       "      <th>통합 분류2</th>\n",
       "      <th>통합 분류3</th>\n",
       "      <th>사건/사고 분류1</th>\n",
       "      <th>사건/사고 분류2</th>\n",
       "      <th>사건/사고 분류3</th>\n",
       "      <th>인물</th>\n",
       "      <th>위치</th>\n",
       "      <th>기관</th>\n",
       "      <th>키워드</th>\n",
       "      <th>특성추출(가중치순 상위 50개)</th>\n",
       "      <th>본문</th>\n",
       "      <th>URL</th>\n",
       "      <th>분석제외 여부</th>\n",
       "    </tr>\n",
       "  </thead>\n",
       "  <tbody>\n",
       "    <tr>\n",
       "      <th>0</th>\n",
       "      <td>2.100601e+06</td>\n",
       "      <td>20220420</td>\n",
       "      <td>한국경제</td>\n",
       "      <td>김익환</td>\n",
       "      <td>대박 노리다 '700억' 물리더니 투자 스타일 확 바뀐 회사 [김익환의 컴퍼니워치]</td>\n",
       "      <td>경제&gt;금융_재테크</td>\n",
       "      <td>경제&gt;증권_증시</td>\n",
       "      <td>경제&gt;무역</td>\n",
       "      <td>NaN</td>\n",
       "      <td>NaN</td>\n",
       "      <td>NaN</td>\n",
       "      <td>양홍석,양,이어룡,포메이션8,구본웅</td>\n",
       "      <td>미국,대주주,싱가포르,서울시,경기도</td>\n",
       "      <td>마음그룹,SC,LS그룹,예스코홀딩스,국민연,맥쿼리인프라,예스코,LS,대신증권,투자은행</td>\n",
       "      <td>700억,투자,스타일,회사,김익환,컴퍼니워치,LS,그룹,계열,도시가스,업체,예스코홀...</td>\n",
       "      <td>대신증권,예스코홀딩스,고배당주,맥쿼리인프라,도시가스,스타트업,부회장,700억,투자금...</td>\n",
       "      <td>LS그룹 계열의 도시가스업체 예스코홀딩스가 대신증권과 맥쿼리인프라를 비롯한 고배당주...</td>\n",
       "      <td>https://www.hankyung.com/economy/article/20220...</td>\n",
       "      <td>NaN</td>\n",
       "    </tr>\n",
       "    <tr>\n",
       "      <th>1</th>\n",
       "      <td>2.100101e+06</td>\n",
       "      <td>20220415</td>\n",
       "      <td>매일경제</td>\n",
       "      <td>신화</td>\n",
       "      <td>미래에셋 리츠 ETF, 순자산 2000억 돌파</td>\n",
       "      <td>경제&gt;증권_증시</td>\n",
       "      <td>경제&gt;금융_재테크</td>\n",
       "      <td>경제&gt;유통</td>\n",
       "      <td>NaN</td>\n",
       "      <td>NaN</td>\n",
       "      <td>NaN</td>\n",
       "      <td>NaN</td>\n",
       "      <td>NaN</td>\n",
       "      <td>SK리츠,맥쿼리인프라,미래에셋,미래에셋자산운용,제이알글로벌리츠,ESR켄달스퀘어리츠,...</td>\n",
       "      <td>ETF,미래에셋,리츠,돌파,자산,미래에셋자산운용,TIGER,리츠부동산인프라,상장지수...</td>\n",
       "      <td>리츠부동산인프라,etf,2000억,원어치,미래에셋,인프라스트럭처,켄달스퀘어리츠,인컴...</td>\n",
       "      <td>미래에셋자산운용이 'TIGER 리츠부동산인프라' 상장지수펀드(ETF)의 순자산이 2...</td>\n",
       "      <td>http://news.mk.co.kr/newsRead.php?no=339384&amp;ye...</td>\n",
       "      <td>NaN</td>\n",
       "    </tr>\n",
       "    <tr>\n",
       "      <th>2</th>\n",
       "      <td>1.100101e+06</td>\n",
       "      <td>20220414</td>\n",
       "      <td>경향신문</td>\n",
       "      <td>강연주 기자 play@kyunghyang.com</td>\n",
       "      <td>김대기, 사외 감독이사 맡아 최소 6억 수령 ‘관피아’ 논란</td>\n",
       "      <td>정치&gt;청와대</td>\n",
       "      <td>NaN</td>\n",
       "      <td>NaN</td>\n",
       "      <td>NaN</td>\n",
       "      <td>NaN</td>\n",
       "      <td>NaN</td>\n",
       "      <td>김,이명박,김대기,권오인,한덕수,이창양</td>\n",
       "      <td>NaN</td>\n",
       "      <td>경향신문,맥쿼리인프라,김앤장,두산중공업,SK하이닉스,현대두산인프라코어,현대두산인프라...</td>\n",
       "      <td>김대기,사외,감독이사,수령,최소,관피아,논란,2015년,SK이노베이션,재직,한화생명...</td>\n",
       "      <td>내정자,사외이사,두산중공업,한화생명,맥쿼리인프라,두산인프라코어,sk이노베이션,공무원...</td>\n",
       "      <td>2015년부터 SK이노베이션 현대두산인프라코어 등서 재직\\n한화생명에선 ‘고문’으로...</td>\n",
       "      <td>https://www.khan.co.kr/national/national-gener...</td>\n",
       "      <td>NaN</td>\n",
       "    </tr>\n",
       "    <tr>\n",
       "      <th>3</th>\n",
       "      <td>1.100101e+06</td>\n",
       "      <td>20220414</td>\n",
       "      <td>경향신문</td>\n",
       "      <td>강연주 기자 play@kyunghyang.com</td>\n",
       "      <td>[단독]김대기, 민간 사외이사 지내며 ‘최소 6억4100만원’ 수령  ‘관피아’ 논란</td>\n",
       "      <td>정치&gt;청와대</td>\n",
       "      <td>NaN</td>\n",
       "      <td>NaN</td>\n",
       "      <td>NaN</td>\n",
       "      <td>NaN</td>\n",
       "      <td>NaN</td>\n",
       "      <td>김,이명박,김대기,권오인,한덕수,이창양</td>\n",
       "      <td>NaN</td>\n",
       "      <td>경향신문,맥쿼리인프라,김앤장,두산중공업,경제정의실천연합,현대두산인프라코어,맥쿼리한국...</td>\n",
       "      <td>김대기,민간,사외,이사,최소,수령,관피아,논란,김대기,대통령,비서실장,내정자,201...</td>\n",
       "      <td>내정자,사외이사,두산중공업,한화생명,sk이노베이션,이사회,두산인프라코어,맥쿼리인프라...</td>\n",
       "      <td>김대기 대통령 비서실장 내정자가 2015년부터 현재까지 민간 기업 사외 감독이사 활...</td>\n",
       "      <td>https://www.khan.co.kr/national/national-gener...</td>\n",
       "      <td>NaN</td>\n",
       "    </tr>\n",
       "    <tr>\n",
       "      <th>4</th>\n",
       "      <td>1.101001e+06</td>\n",
       "      <td>20220414</td>\n",
       "      <td>한겨레</td>\n",
       "      <td>박종오 기자</td>\n",
       "      <td>김대기 비서실장, 바로 그 ‘맥쿼리’ 이사였다</td>\n",
       "      <td>정치&gt;청와대</td>\n",
       "      <td>NaN</td>\n",
       "      <td>NaN</td>\n",
       "      <td>NaN</td>\n",
       "      <td>NaN</td>\n",
       "      <td>NaN</td>\n",
       "      <td>김,노무현,이명박,김대기,윤증현,한승수,7천만원</td>\n",
       "      <td>인천김포고속도로,종로구,광주시,서울,9호선,통의동,서울지하철,서울시,부산신항,광주</td>\n",
       "      <td>에스케이이노베이션,인수위,맥쿼리인프라,대한상사중재원,서라벌도시가스,맥쿼리,두산중공업...</td>\n",
       "      <td>김대기,비서실장,맥쿼리,이사,김대기,대통령,비서실장,내정자,13일,민자,사업,투자,...</td>\n",
       "      <td>내정자,맥쿼리,이명박,맥쿼리인프라,민자사업,사외이사,한화생명,민자,윤증현,에스케이이...</td>\n",
       "      <td>김대기 대통령 비서실장 내정자가 13일 현재 민자사업 투자를 주력으로 하는 맥쿼리한...</td>\n",
       "      <td>http://www.hani.co.kr/arti/politics/politics_g...</td>\n",
       "      <td>NaN</td>\n",
       "    </tr>\n",
       "    <tr>\n",
       "      <th>...</th>\n",
       "      <td>...</td>\n",
       "      <td>...</td>\n",
       "      <td>...</td>\n",
       "      <td>...</td>\n",
       "      <td>...</td>\n",
       "      <td>...</td>\n",
       "      <td>...</td>\n",
       "      <td>...</td>\n",
       "      <td>...</td>\n",
       "      <td>...</td>\n",
       "      <td>...</td>\n",
       "      <td>...</td>\n",
       "      <td>...</td>\n",
       "      <td>...</td>\n",
       "      <td>...</td>\n",
       "      <td>...</td>\n",
       "      <td>...</td>\n",
       "      <td>...</td>\n",
       "      <td>...</td>\n",
       "    </tr>\n",
       "    <tr>\n",
       "      <th>1022</th>\n",
       "      <td>1.100901e+06</td>\n",
       "      <td>20060221</td>\n",
       "      <td>중앙일보</td>\n",
       "      <td>NaN</td>\n",
       "      <td>[브리핑] 인프라 펀드 상장 규모 11조원 넘을 듯</td>\n",
       "      <td>경제&gt;증권_증시</td>\n",
       "      <td>국제&gt;유럽_EU</td>\n",
       "      <td>경제&gt;금융_재테크</td>\n",
       "      <td>NaN</td>\n",
       "      <td>NaN</td>\n",
       "      <td>NaN</td>\n",
       "      <td>NaN</td>\n",
       "      <td>미국,환산,한국,호주,런던</td>\n",
       "      <td>신한금융그룹,매쿼리은행,메릴린치,투자은행,MKIF</td>\n",
       "      <td>11조,인프라,펀드,상장,규모,투자은행,호주,최대,투자,은행,매쿼리은행,신한금융그룹...</td>\n",
       "      <td>1조,한국,다음달,런던,메릴린치,mkif,매쿼리,호주,11조,11억,gdr,신한금융...</td>\n",
       "      <td>호주 최대 투자은행인 매쿼리은행과 신한금융그룹이 공동 설립한 인프라 펀드의 한국.런...</td>\n",
       "      <td>https://news.joins.com/article/2210809</td>\n",
       "      <td>예외</td>\n",
       "    </tr>\n",
       "    <tr>\n",
       "      <th>1023</th>\n",
       "      <td>2.100601e+06</td>\n",
       "      <td>20060209</td>\n",
       "      <td>한국경제</td>\n",
       "      <td>NaN</td>\n",
       "      <td>CLSA,\"인프라펀드 상장 관련 건설주 주목\"</td>\n",
       "      <td>경제&gt;금융_재테크</td>\n",
       "      <td>경제&gt;증권_증시</td>\n",
       "      <td>경제&gt;산업_기업</td>\n",
       "      <td>NaN</td>\n",
       "      <td>NaN</td>\n",
       "      <td>NaN</td>\n",
       "      <td>NaN</td>\n",
       "      <td>NaN</td>\n",
       "      <td>CL,정부,크레디리요네(CLSA)증권,한경닷컴,PF</td>\n",
       "      <td>CLSA,인프라펀드,상장,상장,건설,주목,크레디리요네,CLSA,증권,맥쿼리인프라펀드...</td>\n",
       "      <td>건설주,크레디리요네,대림산업,현대산업개발,기투자,맥쿼리인프라펀드,기록중,인프라펀드,...</td>\n",
       "      <td>9일 크레디리요네(CLSA)증권은 맥쿼리인프라펀드(MKIF) 상장 추진으로 사모펀드...</td>\n",
       "      <td>NaN</td>\n",
       "      <td>NaN</td>\n",
       "    </tr>\n",
       "    <tr>\n",
       "      <th>1024</th>\n",
       "      <td>2.100601e+06</td>\n",
       "      <td>20060207</td>\n",
       "      <td>한국경제</td>\n",
       "      <td>NaN</td>\n",
       "      <td>맥쿼리 인프라펀드, 韓ㆍ英 동시상장 추진</td>\n",
       "      <td>경제&gt;증권_증시</td>\n",
       "      <td>경제&gt;산업_기업</td>\n",
       "      <td>경제&gt;국제경제</td>\n",
       "      <td>NaN</td>\n",
       "      <td>NaN</td>\n",
       "      <td>NaN</td>\n",
       "      <td>NaN</td>\n",
       "      <td>한국,영국,항만,증시,런던</td>\n",
       "      <td>금융감독원,맥쿼리한국인프,맥쿼리,라투융자회사,MKIF</td>\n",
       "      <td>맥쿼리,인프라,펀드,추진,韓ㆍ英,동시,상장,도로,항만,사회간접자본,SOC,시설,투자...</td>\n",
       "      <td>맥쿼리,mkif,영국,런던,인프라펀드,사회간접자본,라투,감독원,라투융자회사,한국인프...</td>\n",
       "      <td>도로 항만 등 사회간접자본(SOC)시설에 투자하는 인프라펀드인 맥쿼리한국인프\\n라투...</td>\n",
       "      <td>NaN</td>\n",
       "      <td>NaN</td>\n",
       "    </tr>\n",
       "    <tr>\n",
       "      <th>1025</th>\n",
       "      <td>1.100901e+06</td>\n",
       "      <td>20060207</td>\n",
       "      <td>중앙일보</td>\n",
       "      <td>NaN</td>\n",
       "      <td>[브리핑] 신한-맥쿼리 은행 펀드 한 영서 상장</td>\n",
       "      <td>경제&gt;금융_재테크</td>\n",
       "      <td>경제&gt;증권_증시</td>\n",
       "      <td>경제&gt;국제경제</td>\n",
       "      <td>NaN</td>\n",
       "      <td>NaN</td>\n",
       "      <td>NaN</td>\n",
       "      <td>NaN</td>\n",
       "      <td>서울,천안,호주,런던,인천공항</td>\n",
       "      <td>신한금융그룹,금융감독원,맥쿼리 은행,맥쿼리,맥쿼리코리아,MKIF</td>\n",
       "      <td>신한,맥쿼리,은행,펀드,영서,상장,금융감독원,신한금융그룹,호주,최대,투자,은행,맥쿼...</td>\n",
       "      <td>고속도로,신한금융그룹,호주,맥쿼리코리아,mkif,인프라스트럭처,천안,논산,감독원,맥...</td>\n",
       "      <td>금융감독원은 7일 신한금융그룹과 호주 최대 투자 은행인 맥쿼리 은행이 공동 설립한 ...</td>\n",
       "      <td>https://news.joins.com/article/2137057</td>\n",
       "      <td>예외</td>\n",
       "    </tr>\n",
       "    <tr>\n",
       "      <th>1026</th>\n",
       "      <td>2.100101e+06</td>\n",
       "      <td>20060131</td>\n",
       "      <td>매일경제</td>\n",
       "      <td>NaN</td>\n",
       "      <td>신한금융-맥쿼리은행 내달 도로펀드 판매</td>\n",
       "      <td>경제&gt;증권_증시</td>\n",
       "      <td>경제&gt;금융_재테크</td>\n",
       "      <td>경제&gt;국제경제</td>\n",
       "      <td>NaN</td>\n",
       "      <td>NaN</td>\n",
       "      <td>NaN</td>\n",
       "      <td>NaN</td>\n",
       "      <td>서울,천안,9호선,마창대교,호주,런던,인천공항</td>\n",
       "      <td>신한금융그룹,맥쿼리은행,금융감독원,신한금융-맥쿼리은행,한국,맥쿼리코리아</td>\n",
       "      <td>신한금융,맥쿼리은행,판매,내달,도로,펀드,개인,3월,증시,펀드,인프라,펀드,호주,맥...</td>\n",
       "      <td>맥쿼리은행,고속도로,서울,감독원,금융감독원,한국,5000억,사회간접자본,맥쿼리코리아...</td>\n",
       "      <td>국내외 개인투자자들이 3월이면 증시에서 도로 펀드(인프라 펀드)를 사고팔 수\\n있게...</td>\n",
       "      <td>NaN</td>\n",
       "      <td>NaN</td>\n",
       "    </tr>\n",
       "  </tbody>\n",
       "</table>\n",
       "<p>1027 rows × 19 columns</p>\n",
       "</div>"
      ],
      "text/plain": [
       "            뉴스 식별자        일자   언론사                         기고자  \\\n",
       "0     2.100601e+06  20220420  한국경제                         김익환   \n",
       "1     2.100101e+06  20220415  매일경제                          신화   \n",
       "2     1.100101e+06  20220414  경향신문  강연주 기자 play@kyunghyang.com   \n",
       "3     1.100101e+06  20220414  경향신문  강연주 기자 play@kyunghyang.com   \n",
       "4     1.101001e+06  20220414   한겨레                      박종오 기자   \n",
       "...            ...       ...   ...                         ...   \n",
       "1022  1.100901e+06  20060221  중앙일보                         NaN   \n",
       "1023  2.100601e+06  20060209  한국경제                         NaN   \n",
       "1024  2.100601e+06  20060207  한국경제                         NaN   \n",
       "1025  1.100901e+06  20060207  중앙일보                         NaN   \n",
       "1026  2.100101e+06  20060131  매일경제                         NaN   \n",
       "\n",
       "                                                   제목     통합 분류1      통합 분류2  \\\n",
       "0      대박 노리다 '700억' 물리더니 투자 스타일 확 바뀐 회사 [김익환의 컴퍼니워치]  경제>금융_재테크    경제>증권_증시   \n",
       "1                           미래에셋 리츠 ETF, 순자산 2000억 돌파   경제>증권_증시   경제>금융_재테크   \n",
       "2                   김대기, 사외 감독이사 맡아 최소 6억 수령 ‘관피아’ 논란     정치>청와대         NaN   \n",
       "3     [단독]김대기, 민간 사외이사 지내며 ‘최소 6억4100만원’ 수령  ‘관피아’ 논란     정치>청와대         NaN   \n",
       "4                           김대기 비서실장, 바로 그 ‘맥쿼리’ 이사였다     정치>청와대         NaN   \n",
       "...                                               ...        ...         ...   \n",
       "1022                     [브리핑] 인프라 펀드 상장 규모 11조원 넘을 듯   경제>증권_증시    국제>유럽_EU   \n",
       "1023                        CLSA,\"인프라펀드 상장 관련 건설주 주목\"  경제>금융_재테크    경제>증권_증시   \n",
       "1024                           맥쿼리 인프라펀드, 韓ㆍ英 동시상장 추진   경제>증권_증시    경제>산업_기업   \n",
       "1025                       [브리핑] 신한-맥쿼리 은행 펀드 한 영서 상장  경제>금융_재테크    경제>증권_증시   \n",
       "1026                            신한금융-맥쿼리은행 내달 도로펀드 판매   경제>증권_증시   경제>금융_재테크   \n",
       "\n",
       "          통합 분류3 사건/사고 분류1 사건/사고 분류2  사건/사고 분류3                          인물  \\\n",
       "0          경제>무역       NaN       NaN        NaN         양홍석,양,이어룡,포메이션8,구본웅   \n",
       "1          경제>유통       NaN       NaN        NaN                         NaN   \n",
       "2            NaN       NaN       NaN        NaN       김,이명박,김대기,권오인,한덕수,이창양   \n",
       "3            NaN       NaN       NaN        NaN       김,이명박,김대기,권오인,한덕수,이창양   \n",
       "4            NaN       NaN       NaN        NaN  김,노무현,이명박,김대기,윤증현,한승수,7천만원   \n",
       "...          ...       ...       ...        ...                         ...   \n",
       "1022   경제>금융_재테크       NaN       NaN        NaN                         NaN   \n",
       "1023    경제>산업_기업       NaN       NaN        NaN                         NaN   \n",
       "1024     경제>국제경제       NaN       NaN        NaN                         NaN   \n",
       "1025     경제>국제경제       NaN       NaN        NaN                         NaN   \n",
       "1026     경제>국제경제       NaN       NaN        NaN                         NaN   \n",
       "\n",
       "                                                 위치  \\\n",
       "0                               미국,대주주,싱가포르,서울시,경기도   \n",
       "1                                               NaN   \n",
       "2                                               NaN   \n",
       "3                                               NaN   \n",
       "4     인천김포고속도로,종로구,광주시,서울,9호선,통의동,서울지하철,서울시,부산신항,광주   \n",
       "...                                             ...   \n",
       "1022                                 미국,환산,한국,호주,런던   \n",
       "1023                                            NaN   \n",
       "1024                                 한국,영국,항만,증시,런던   \n",
       "1025                               서울,천안,호주,런던,인천공항   \n",
       "1026                      서울,천안,9호선,마창대교,호주,런던,인천공항   \n",
       "\n",
       "                                                     기관  \\\n",
       "0       마음그룹,SC,LS그룹,예스코홀딩스,국민연,맥쿼리인프라,예스코,LS,대신증권,투자은행   \n",
       "1     SK리츠,맥쿼리인프라,미래에셋,미래에셋자산운용,제이알글로벌리츠,ESR켄달스퀘어리츠,...   \n",
       "2     경향신문,맥쿼리인프라,김앤장,두산중공업,SK하이닉스,현대두산인프라코어,현대두산인프라...   \n",
       "3     경향신문,맥쿼리인프라,김앤장,두산중공업,경제정의실천연합,현대두산인프라코어,맥쿼리한국...   \n",
       "4     에스케이이노베이션,인수위,맥쿼리인프라,대한상사중재원,서라벌도시가스,맥쿼리,두산중공업...   \n",
       "...                                                 ...   \n",
       "1022                        신한금융그룹,매쿼리은행,메릴린치,투자은행,MKIF   \n",
       "1023                       CL,정부,크레디리요네(CLSA)증권,한경닷컴,PF   \n",
       "1024                      금융감독원,맥쿼리한국인프,맥쿼리,라투융자회사,MKIF   \n",
       "1025                신한금융그룹,금융감독원,맥쿼리 은행,맥쿼리,맥쿼리코리아,MKIF   \n",
       "1026            신한금융그룹,맥쿼리은행,금융감독원,신한금융-맥쿼리은행,한국,맥쿼리코리아   \n",
       "\n",
       "                                                    키워드  \\\n",
       "0     700억,투자,스타일,회사,김익환,컴퍼니워치,LS,그룹,계열,도시가스,업체,예스코홀...   \n",
       "1     ETF,미래에셋,리츠,돌파,자산,미래에셋자산운용,TIGER,리츠부동산인프라,상장지수...   \n",
       "2     김대기,사외,감독이사,수령,최소,관피아,논란,2015년,SK이노베이션,재직,한화생명...   \n",
       "3     김대기,민간,사외,이사,최소,수령,관피아,논란,김대기,대통령,비서실장,내정자,201...   \n",
       "4     김대기,비서실장,맥쿼리,이사,김대기,대통령,비서실장,내정자,13일,민자,사업,투자,...   \n",
       "...                                                 ...   \n",
       "1022  11조,인프라,펀드,상장,규모,투자은행,호주,최대,투자,은행,매쿼리은행,신한금융그룹...   \n",
       "1023  CLSA,인프라펀드,상장,상장,건설,주목,크레디리요네,CLSA,증권,맥쿼리인프라펀드...   \n",
       "1024  맥쿼리,인프라,펀드,추진,韓ㆍ英,동시,상장,도로,항만,사회간접자본,SOC,시설,투자...   \n",
       "1025  신한,맥쿼리,은행,펀드,영서,상장,금융감독원,신한금융그룹,호주,최대,투자,은행,맥쿼...   \n",
       "1026  신한금융,맥쿼리은행,판매,내달,도로,펀드,개인,3월,증시,펀드,인프라,펀드,호주,맥...   \n",
       "\n",
       "                                      특성추출(가중치순 상위 50개)  \\\n",
       "0     대신증권,예스코홀딩스,고배당주,맥쿼리인프라,도시가스,스타트업,부회장,700억,투자금...   \n",
       "1     리츠부동산인프라,etf,2000억,원어치,미래에셋,인프라스트럭처,켄달스퀘어리츠,인컴...   \n",
       "2     내정자,사외이사,두산중공업,한화생명,맥쿼리인프라,두산인프라코어,sk이노베이션,공무원...   \n",
       "3     내정자,사외이사,두산중공업,한화생명,sk이노베이션,이사회,두산인프라코어,맥쿼리인프라...   \n",
       "4     내정자,맥쿼리,이명박,맥쿼리인프라,민자사업,사외이사,한화생명,민자,윤증현,에스케이이...   \n",
       "...                                                 ...   \n",
       "1022  1조,한국,다음달,런던,메릴린치,mkif,매쿼리,호주,11조,11억,gdr,신한금융...   \n",
       "1023  건설주,크레디리요네,대림산업,현대산업개발,기투자,맥쿼리인프라펀드,기록중,인프라펀드,...   \n",
       "1024  맥쿼리,mkif,영국,런던,인프라펀드,사회간접자본,라투,감독원,라투융자회사,한국인프...   \n",
       "1025  고속도로,신한금융그룹,호주,맥쿼리코리아,mkif,인프라스트럭처,천안,논산,감독원,맥...   \n",
       "1026  맥쿼리은행,고속도로,서울,감독원,금융감독원,한국,5000억,사회간접자본,맥쿼리코리아...   \n",
       "\n",
       "                                                     본문  \\\n",
       "0     LS그룹 계열의 도시가스업체 예스코홀딩스가 대신증권과 맥쿼리인프라를 비롯한 고배당주...   \n",
       "1     미래에셋자산운용이 'TIGER 리츠부동산인프라' 상장지수펀드(ETF)의 순자산이 2...   \n",
       "2     2015년부터 SK이노베이션 현대두산인프라코어 등서 재직\\n한화생명에선 ‘고문’으로...   \n",
       "3     김대기 대통령 비서실장 내정자가 2015년부터 현재까지 민간 기업 사외 감독이사 활...   \n",
       "4     김대기 대통령 비서실장 내정자가 13일 현재 민자사업 투자를 주력으로 하는 맥쿼리한...   \n",
       "...                                                 ...   \n",
       "1022  호주 최대 투자은행인 매쿼리은행과 신한금융그룹이 공동 설립한 인프라 펀드의 한국.런...   \n",
       "1023  9일 크레디리요네(CLSA)증권은 맥쿼리인프라펀드(MKIF) 상장 추진으로 사모펀드...   \n",
       "1024  도로 항만 등 사회간접자본(SOC)시설에 투자하는 인프라펀드인 맥쿼리한국인프\\n라투...   \n",
       "1025  금융감독원은 7일 신한금융그룹과 호주 최대 투자 은행인 맥쿼리 은행이 공동 설립한 ...   \n",
       "1026  국내외 개인투자자들이 3월이면 증시에서 도로 펀드(인프라 펀드)를 사고팔 수\\n있게...   \n",
       "\n",
       "                                                    URL 분석제외 여부  \n",
       "0     https://www.hankyung.com/economy/article/20220...     NaN  \n",
       "1     http://news.mk.co.kr/newsRead.php?no=339384&ye...     NaN  \n",
       "2     https://www.khan.co.kr/national/national-gener...     NaN  \n",
       "3     https://www.khan.co.kr/national/national-gener...     NaN  \n",
       "4     http://www.hani.co.kr/arti/politics/politics_g...     NaN  \n",
       "...                                                 ...     ...  \n",
       "1022             https://news.joins.com/article/2210809      예외  \n",
       "1023                                                NaN     NaN  \n",
       "1024                                                NaN     NaN  \n",
       "1025             https://news.joins.com/article/2137057      예외  \n",
       "1026                                                NaN     NaN  \n",
       "\n",
       "[1027 rows x 19 columns]"
      ]
     },
     "execution_count": 4,
     "metadata": {},
     "output_type": "execute_result"
    }
   ],
   "source": [
    "df_news"
   ]
  },
  {
   "cell_type": "code",
   "execution_count": 5,
   "id": "13110d2c",
   "metadata": {},
   "outputs": [],
   "source": [
    "df_news = df_news.iloc[:20]"
   ]
  },
  {
   "cell_type": "code",
   "execution_count": 6,
   "id": "c5c2c287",
   "metadata": {},
   "outputs": [
    {
     "data": {
      "text/plain": [
       "0                       https://www.hankyung.com/economy/article/202204208696i\n",
       "1                        http://news.mk.co.kr/newsRead.php?no=339384&year=2022\n",
       "2     https://www.khan.co.kr/national/national-general/article/202204142115005\n",
       "3     https://www.khan.co.kr/national/national-general/article/202204141105001\n",
       "4            http://www.hani.co.kr/arti/politics/politics_general/1038853.html\n",
       "5                        http://news.mk.co.kr/newsRead.php?no=325079&year=2022\n",
       "6                  https://www.donga.com/news/article/all/20220404/112693737/1\n",
       "7                                 http://www.mk.co.kr/economy/view/2022/298364\n",
       "8                        http://news.mk.co.kr/newsRead.php?no=292701&year=2022\n",
       "9       https://www.khan.co.kr/economy/economy-general/article/202203311551001\n",
       "10                       http://news.mk.co.kr/newsRead.php?no=290811&year=2022\n",
       "11                       http://news.mk.co.kr/newsRead.php?no=236242&year=2022\n",
       "12                      https://www.hankyung.com/finance/article/2022030276501\n",
       "13                       http://news.mk.co.kr/newsRead.php?no=107746&year=2022\n",
       "14                       http://news.mk.co.kr/newsRead.php?no=103031&year=2022\n",
       "15                      https://www.hankyung.com/finance/article/2022012028066\n",
       "16                        http://news.mk.co.kr/newsRead.php?no=18470&year=2022\n",
       "17                      https://www.hankyung.com/finance/article/2021122646691\n",
       "18                 https://www.donga.com/news/article/all/20211221/110897037/1\n",
       "19                      https://www.hankyung.com/economy/article/202112214324h\n",
       "Name: URL, dtype: object"
      ]
     },
     "execution_count": 6,
     "metadata": {},
     "output_type": "execute_result"
    }
   ],
   "source": [
    "pd.set_option('display.max_colwidth', None)\n",
    "df_news['URL']"
   ]
  },
  {
   "cell_type": "code",
   "execution_count": null,
   "outputs": [],
   "source": [
    "# Loop through URLs, scrap information, identify the main body\n",
    "# URL이 주어졌을 경우 해당 매체 웹사이트로부터 뉴스기사전문 크롤링\n",
    "\n",
    "#최종결과물에 대한 텍스트 전처리-불용어 제거\n",
    "def clean_html(raw_html):\n",
    "    cleanr = re.compile('<.*?>|\\s{2}|\\n')\n",
    "    clean_text = re.sub(cleanr, '', raw_html)\n",
    "    return clean_text\n",
    "\n",
    "\n",
    "def crawling_main_text(url):\n",
    "                \n",
    "        #조선일보 - 미완성\n",
    "        if 'chosun' in url:\n",
    "            url = requests.get(url, headers={'User-Agent': 'Custom'})\n",
    "\n",
    "            soup = BeautifulSoup(url.text, \"html.parser\")\n",
    "            content_obj = soup.find_all(\"div\", class_=\"article-body\")\n",
    "            \n",
    "            content = clean_html(str(content_obj))\n",
    "             \n",
    "        \n",
    "        #중앙일보\n",
    "        elif 'joins' in url:\n",
    "            url = requests.get(url, headers={'User-Agent': 'Custom'})\n",
    "\n",
    "            soup = BeautifulSoup(url.text, \"html.parser\")\n",
    "\n",
    "            content_obj = soup.find_all('div', class_=\"article_body\")\n",
    "            content = clean_html(str(content_obj))\n",
    "        \n",
    "        \n",
    "        #동아일보\n",
    "        elif 'donga' in url:\n",
    "            url = requests.get(url, headers={'User-Agent': 'Custom'})\n",
    "\n",
    "            soup = BeautifulSoup(url.text, \"html.parser\")\n",
    "\n",
    "            content_obj = soup.find_all('div', class_=\"article_txt\")\n",
    "            content = clean_html(str(content_obj))\n",
    "        \n",
    "        \n",
    "        #한겨례신문\n",
    "        elif 'hani' in url:\n",
    "            url = urllib.request.Request(url)\n",
    "            res = urllib.request.urlopen(url).read().decode(\"utf-8\")\n",
    "    \n",
    "            soup = BeautifulSoup(res, \"html.parser\")\n",
    "            \n",
    "            content_obj = soup.find_all('div', class_=\"text\")\n",
    "            content = clean_html(str(content_obj))\n",
    "        \n",
    "\n",
    "        #경향신문\n",
    "        elif 'khan' in url:\n",
    "            url = requests.get(url, headers={'User-Agent': 'Custom'})\n",
    "\n",
    "            soup = BeautifulSoup(url.text, \"html.parser\")\n",
    "\n",
    "            content_obj = soup.find_all('p', class_=\"content_text\")\n",
    "            content = clean_html(str(content_obj))\n",
    "        \n",
    "        \n",
    "        #한국경제\n",
    "        elif 'hankyung' in url:\n",
    "            url = urllib.request.Request(url, headers={'User-Agent': 'Custom'})\n",
    "            res = urllib.request.urlopen(url).read().decode(\"utf-8\")\n",
    "    \n",
    "            soup = BeautifulSoup(res, \"html.parser\")\n",
    "    \n",
    "            content_obj = soup.find_all('div', id=\"articletxt\")\n",
    "            content = clean_html(str(content_obj))\n",
    "        \n",
    "        \n",
    "        #매일경제\n",
    "        elif 'mk' in url:\n",
    "            url = requests.get(url, headers={'User-Agent': 'Custom'})\n",
    "\n",
    "            soup = BeautifulSoup(url.text, \"html.parser\", from_encoding='')\n",
    "            soup_alt = bs4.BeautifulSoup(url.content.decode('euc-kr', 'replace'), \"html.parser\")\n",
    "\n",
    "            content_obj = soup_alt.find_all('div', class_=\"art_txt\")\n",
    "\n",
    "            content = clean_html(str(content_obj))\n",
    "    \n",
    "        return content\n",
    "                                     "
   ],
   "metadata": {
    "collapsed": false,
    "pycharm": {
     "name": "#%%\n"
    }
   }
  },
  {
   "cell_type": "code",
   "execution_count": null,
   "outputs": [],
   "source": [
    "#For Loop을 통한 본문 크롤링\n",
    "#데이터 프레임에 추가\n",
    "\n",
    "for url in df_news['URL']:\n",
    "    print(url)\n",
    "    main_content = crawling_main_text(url)\n",
    "    print(main_content)\n",
    "    df_news['main_content'] = main_content\n",
    "    "
   ],
   "metadata": {
    "collapsed": false,
    "pycharm": {
     "name": "#%%\n"
    }
   }
  },
  {
   "cell_type": "code",
   "execution_count": null,
   "outputs": [],
   "source": [
    "df_news"
   ],
   "metadata": {
    "collapsed": false,
    "pycharm": {
     "name": "#%%\n"
    }
   }
  },
  {
   "cell_type": "markdown",
   "source": [
    "## Reference Code for Individual Media Source"
   ],
   "metadata": {
    "collapsed": false,
    "pycharm": {
     "name": "#%% md\n"
    }
   }
  },
  {
   "cell_type": "markdown",
   "source": [
    "### 한겨례"
   ],
   "metadata": {
    "collapsed": false,
    "pycharm": {
     "name": "#%% md\n"
    }
   }
  },
  {
   "cell_type": "code",
   "execution_count": null,
   "outputs": [],
   "source": [
    "import urllib.request\n",
    "from bs4 import BeautifulSoup\n",
    "\n",
    "def contents_hankyoreh():\n",
    "    \n",
    "    #샘플 기사 URL\n",
    "    list_url = \"https://www.hani.co.kr/arti/politics/politics_general/1038853.html\"\n",
    "    \n",
    "    url = urllib.request.Request(list_url)\n",
    "    res = urllib.request.urlopen(url).read().decode(\"utf-8\")\n",
    "    #print(res)\n",
    "    \n",
    "    soup = BeautifulSoup(res, \"html.parser\")\n",
    "    params1 = []\n",
    "    params2 = []\n",
    "    \n",
    "    for link1, link2 in zip(soup.find_all('p', class_=\"date-time\"), soup.find_all('div', class_=\"text\")):\n",
    "        params1.append(link1.get_text())\n",
    "        params2.append(link2.get_text())\n",
    "        \n",
    "    for i1, i2 in zip(params1, params2):\n",
    "        #print(i1.strip(), end=' ')\n",
    "        print(i2.strip())\n",
    "        \n",
    "contents_hankyoreh()\n",
    "    "
   ],
   "metadata": {
    "collapsed": false,
    "pycharm": {
     "name": "#%%\n"
    }
   }
  },
  {
   "cell_type": "markdown",
   "source": [
    "### 한국경제"
   ],
   "metadata": {
    "collapsed": false,
    "pycharm": {
     "name": "#%% md\n"
    }
   }
  },
  {
   "cell_type": "code",
   "execution_count": null,
   "outputs": [],
   "source": [
    "#한국경제와 같은 경우 \n",
    "\n",
    "import re\n",
    "import urllib.request\n",
    "from bs4 import BeautifulSoup\n",
    "\n",
    "def cleanhtml(raw_html):\n",
    "    cleanr = re.compile('<.*?>|\\s{2}|\\n')\n",
    "    cleantext = re.sub(cleanr, '', raw_html)\n",
    "    return cleantext\n",
    "\n",
    "def contents_hankyung():\n",
    "    \n",
    "    #샘플 기사 URL\n",
    "    list_url = \"https://www.hankyung.com/finance/article/2021122646691\"\n",
    "    \n",
    "    url = urllib.request.Request(list_url, headers={'User-Agent': 'Custom'}) #\n",
    "    res = urllib.request.urlopen(url).read().decode(\"utf-8\")\n",
    "    \n",
    "    soup = BeautifulSoup(res, \"html.parser\")\n",
    "    \n",
    "    content_obj = soup.find_all('div', id=\"articletxt\")\n",
    "    content = cleanhtml(str(content_obj))\n",
    "    return content\n",
    "        \n",
    "\n",
    "contents_hankyung()\n",
    "    "
   ],
   "metadata": {
    "collapsed": false,
    "pycharm": {
     "name": "#%%\n"
    }
   }
  },
  {
   "cell_type": "markdown",
   "source": [
    "### 경향신문"
   ],
   "metadata": {
    "collapsed": false,
    "pycharm": {
     "name": "#%% md\n"
    }
   }
  },
  {
   "cell_type": "code",
   "execution_count": null,
   "outputs": [],
   "source": [
    "#샘플 기사 URL\n",
    "list_url = 'https://www.khan.co.kr/national/national-general/article/202204142115005'\n",
    "\n",
    "def contents_kyunghyang(list_url):\n",
    "    \n",
    "    url = requests.get(list_url, headers={'User-Agent': 'Custom'})\n",
    "\n",
    "    soup = BeautifulSoup(url.text, \"html.parser\")\n",
    "\n",
    "    content_obj = soup.find_all('p', class_=\"content_text\")\n",
    "\n",
    "    content = cleanhtml(str(content_obj))\n",
    "    return content\n",
    "\n",
    "contents_kyunghyang(list_url)"
   ],
   "metadata": {
    "collapsed": false,
    "pycharm": {
     "name": "#%%\n"
    }
   }
  },
  {
   "cell_type": "markdown",
   "source": [
    "### 동아일보"
   ],
   "metadata": {
    "collapsed": false,
    "pycharm": {
     "name": "#%% md\n"
    }
   }
  },
  {
   "cell_type": "code",
   "execution_count": null,
   "outputs": [],
   "source": [
    "list_url = 'https://www.donga.com/news/article/all/20220404/112693737/1'\n",
    "\n",
    "def contents_donga(list_url):\n",
    "    \n",
    "    url = requests.get(list_url, headers={'User-Agent': 'Custom'})\n",
    "\n",
    "    soup = BeautifulSoup(url.text, \"html.parser\")\n",
    "\n",
    "    content_obj = soup.find_all('div', class_=\"article_txt\")\n",
    "\n",
    "    content = cleanhtml(str(content_obj))\n",
    "    return content\n",
    "\n",
    "contents_donga(list_url)"
   ],
   "metadata": {
    "collapsed": false,
    "pycharm": {
     "name": "#%%\n"
    }
   }
  },
  {
   "cell_type": "markdown",
   "source": [
    "### 중앙일보"
   ],
   "metadata": {
    "collapsed": false,
    "pycharm": {
     "name": "#%% md\n"
    }
   }
  },
  {
   "cell_type": "code",
   "execution_count": null,
   "outputs": [],
   "source": [
    "list_url = 'https://news.joins.com/article/2137057'\n",
    "\n",
    "def contents_joongang(list_url):\n",
    "    \n",
    "    url = requests.get(list_url, headers={'User-Agent': 'Custom'})\n",
    "\n",
    "    soup = BeautifulSoup(url.text, \"html.parser\")\n",
    "\n",
    "    content_obj = soup.find_all('div', class_=\"article_body\")\n",
    "\n",
    "    content = cleanhtml(str(content_obj))\n",
    "    return content\n",
    "\n",
    "contents_joongang(list_url)"
   ],
   "metadata": {
    "collapsed": false,
    "pycharm": {
     "name": "#%%\n"
    }
   }
  },
  {
   "cell_type": "markdown",
   "source": [
    "### 매일경제"
   ],
   "metadata": {
    "collapsed": false,
    "pycharm": {
     "name": "#%% md\n"
    }
   }
  },
  {
   "cell_type": "code",
   "execution_count": null,
   "outputs": [],
   "source": [
    "import bs4\n",
    "list_url = 'https://www.mk.co.kr/news/stock/view/2022/04/339384/'\n",
    "\n",
    "def contents_maeil(list_url):\n",
    "    \n",
    "    url = requests.get(list_url, headers={'User-Agent': 'Custom'})\n",
    "\n",
    "    soup = BeautifulSoup(url.text, \"html.parser\", from_encoding='')\n",
    "    soup_alt = bs4.BeautifulSoup(url.content.decode('euc-kr', 'replace'), \"html.parser\")\n",
    "\n",
    "    content_obj = soup_alt.find_all('div', class_=\"art_txt\")\n",
    "\n",
    "    content = cleanhtml(str(content_obj))\n",
    "    return content\n",
    "\n",
    "contents_maeil(list_url)"
   ],
   "metadata": {
    "collapsed": false,
    "pycharm": {
     "name": "#%%\n"
    }
   }
  },
  {
   "cell_type": "markdown",
   "source": [
    "### 조선일보"
   ],
   "metadata": {
    "collapsed": false,
    "pycharm": {
     "name": "#%% md\n"
    }
   }
  },
  {
   "cell_type": "code",
   "execution_count": null,
   "outputs": [],
   "source": [
    "import re\n",
    "from bs4 import BeautifulSoup\n",
    "\n",
    "list_url = 'https://www.chosun.com/economy/stock-finance/2021/12/10/OYYDOUAR35HZHBIOO5YAL4XTD4/?utm_source=bigkinds&utm_medium=original&utm_campaign=news'\n",
    "\n",
    "content_obj = []\n",
    "\n",
    "def contents_chosun(list_url):\n",
    "    \n",
    "    url = requests.get(list_url, headers={'User-Agent': 'Custom'})\n",
    "\n",
    "    soup = BeautifulSoup(url.text, \"html.parser\")\n",
    "    #content_obj = soup.find_all('section', class_=\"article-body\")\n",
    "    for tag in soup.select(\"div\", class_=\"article-body\"):\n",
    "        print(tag)\n",
    "        #write_ws.append([tag.text])\n",
    "    \n",
    "    content = cleanhtml(str(content_obj))\n",
    "    return content\n",
    "\n",
    "contents_chosun(list_url)"
   ],
   "metadata": {
    "collapsed": false,
    "pycharm": {
     "name": "#%%\n"
    }
   }
  },
  {
   "cell_type": "markdown",
   "id": "020ad941",
   "metadata": {},
   "source": [
    "### 조선일보"
   ]
  },
  {
   "cell_type": "code",
   "execution_count": 14,
   "id": "7fe5a03a",
   "metadata": {},
   "outputs": [
    {
     "name": "stdout",
     "output_type": "stream",
     "text": [
      "<div id=\"fusion-app\"><div data-fusion-collection=\"layouts\" data-fusion-message=\"Could not render component [layouts:article]\" data-fusion-type=\"article\" id=\"article\" style=\"display:none\"></div></div>\n",
      "<div data-fusion-collection=\"layouts\" data-fusion-message=\"Could not render component [layouts:article]\" data-fusion-type=\"article\" id=\"article\" style=\"display:none\"></div>\n"
     ]
    },
    {
     "data": {
      "text/plain": [
       "'[]'"
      ]
     },
     "execution_count": 14,
     "metadata": {},
     "output_type": "execute_result"
    }
   ],
   "source": [
    "import re\n",
    "from bs4 import BeautifulSoup\n",
    "\n",
    "list_url = 'https://www.chosun.com/economy/stock-finance/2021/12/10/OYYDOUAR35HZHBIOO5YAL4XTD4/?utm_source=bigkinds&utm_medium=original&utm_campaign=news'\n",
    "\n",
    "content_obj = []\n",
    "\n",
    "def contents_chosun(list_url):\n",
    "    \n",
    "    url = requests.get(list_url, headers={'User-Agent': 'Custom'})\n",
    "\n",
    "    soup = BeautifulSoup(url.text, \"html.parser\")\n",
    "    #content_obj = soup.find_all('section', class_=\"article-body\")\n",
    "    for tag in soup.select(\"div\", class_=\"article-body\"):\n",
    "        print(tag)\n",
    "        #write_ws.append([tag.text])\n",
    "    \n",
    "    content = cleanhtml(str(content_obj))\n",
    "    return content\n",
    "\n",
    "contents_chosun(list_url)"
   ]
  }
 ],
 "metadata": {
  "kernelspec": {
   "display_name": "Python 3",
   "language": "python",
   "name": "python3"
  },
  "language_info": {
   "codemirror_mode": {
    "name": "ipython",
    "version": 3
   },
   "file_extension": ".py",
   "mimetype": "text/x-python",
   "name": "python",
   "nbconvert_exporter": "python",
   "pygments_lexer": "ipython3",
   "version": "3.9.7"
  }
 },
 "nbformat": 4,
 "nbformat_minor": 5
}